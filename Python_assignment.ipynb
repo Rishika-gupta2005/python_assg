{
  "nbformat": 4,
  "nbformat_minor": 0,
  "metadata": {
    "colab": {
      "provenance": []
    },
    "kernelspec": {
      "name": "python3",
      "display_name": "Python 3"
    },
    "language_info": {
      "name": "python"
    }
  },
  "cells": [
    {
      "cell_type": "markdown",
      "source": [
        "# **phython assignment**"
      ],
      "metadata": {
        "id": "QVzQa5hyJaPa"
      }
    },
    {
      "cell_type": "markdown",
      "source": [
        "# **Q1 L is a list defined as L=[11,12,13,14]**"
      ],
      "metadata": {
        "id": "wbGQ29VJpZko"
      }
    },
    {
      "cell_type": "markdown",
      "source": [
        "# **1.1 WAP to add 50 and 60 to L**"
      ],
      "metadata": {
        "id": "EGR2B1KOp6S9"
      }
    },
    {
      "cell_type": "code",
      "source": [
        "L=[11,12,13,14]\n",
        "print (\"original list =\",L)\n",
        "\n",
        "L.append(50)\n",
        "print(\"after adding (50)=\",L)\n",
        "\n",
        "L.append(60)\n",
        "print(\"after adding (60)=\",L)"
      ],
      "metadata": {
        "colab": {
          "base_uri": "https://localhost:8080/"
        },
        "id": "2vaf-nHiqDUw",
        "outputId": "06733a9d-04f2-4746-b334-ed2300a08be0"
      },
      "execution_count": null,
      "outputs": [
        {
          "output_type": "stream",
          "name": "stdout",
          "text": [
            "original list = [11, 12, 13, 14]\n",
            "after adding (50)= [11, 12, 13, 14, 50]\n",
            "after adding (60)= [11, 12, 13, 14, 50, 60]\n"
          ]
        }
      ]
    },
    {
      "cell_type": "markdown",
      "source": [
        "# **1.2 WAP to remove 11 and 13 from L**"
      ],
      "metadata": {
        "id": "6dw4EG3crCU4"
      }
    },
    {
      "cell_type": "code",
      "source": [
        "L=[11,12,13,14]\n",
        "print(\"original list=\",L)\n",
        "\n",
        "del L[0]\n",
        "print(\"after deletion=\",L)\n",
        "\n",
        "del L[2]\n",
        "print(\"after deletion=\",L)"
      ],
      "metadata": {
        "colab": {
          "base_uri": "https://localhost:8080/"
        },
        "id": "1kmADcewrK41",
        "outputId": "f657410d-2e73-4480-9d50-cf8db007e685"
      },
      "execution_count": null,
      "outputs": [
        {
          "output_type": "stream",
          "name": "stdout",
          "text": [
            "original list= [11, 12, 13, 14]\n",
            "after deletion= [12, 13, 14]\n",
            "after deletion= [12, 13]\n"
          ]
        }
      ]
    },
    {
      "cell_type": "markdown",
      "source": [
        "# **1.3 WAP to sort L in ascending order**"
      ],
      "metadata": {
        "id": "lMo-gCGgrjhc"
      }
    },
    {
      "cell_type": "code",
      "source": [
        "L=[11,12,14,13]\n",
        "print(\"original list=\",L)\n",
        "\n",
        "L.sort()\n",
        "print(\"after sorting=\",L)"
      ],
      "metadata": {
        "colab": {
          "base_uri": "https://localhost:8080/"
        },
        "id": "_ElJ4HfZrvrO",
        "outputId": "f5316677-29cf-4edf-f268-86f1713e0fdf"
      },
      "execution_count": null,
      "outputs": [
        {
          "output_type": "stream",
          "name": "stdout",
          "text": [
            "original list= [11, 12, 14, 13]\n",
            "after sorting= [11, 12, 13, 14]\n"
          ]
        }
      ]
    },
    {
      "cell_type": "markdown",
      "source": [
        "# **1.4 WAP to sort L in descending order**"
      ],
      "metadata": {
        "id": "uHdD69onsCTI"
      }
    },
    {
      "cell_type": "code",
      "source": [
        "L=[11,14,13,12]\n",
        "print(\"original list=\",L)\n",
        "\n",
        "L.sort(reverse=True)\n",
        "print(\"after sorting in descending order=\",L)"
      ],
      "metadata": {
        "colab": {
          "base_uri": "https://localhost:8080/"
        },
        "id": "n3QQJSBssKGo",
        "outputId": "edd400d2-66ec-416c-bf92-53ca12c35bbf"
      },
      "execution_count": null,
      "outputs": [
        {
          "output_type": "stream",
          "name": "stdout",
          "text": [
            "original list= [11, 14, 13, 12]\n",
            "after sorting in descending order= [14, 13, 12, 11]\n"
          ]
        }
      ]
    },
    {
      "cell_type": "markdown",
      "source": [
        "# **1.5 WAP to search in L**"
      ],
      "metadata": {
        "id": "6kAngKH5sfD9"
      }
    },
    {
      "cell_type": "code",
      "source": [
        "l=[11,12,13,14]\n",
        "print(\"original list=\",L)\n",
        "print(\"13 in L=\",13 in L)"
      ],
      "metadata": {
        "colab": {
          "base_uri": "https://localhost:8080/"
        },
        "id": "DkMbibQ9slJy",
        "outputId": "33297bf6-7564-43af-ad85-3bd7319224a7"
      },
      "execution_count": null,
      "outputs": [
        {
          "output_type": "stream",
          "name": "stdout",
          "text": [
            "original list= [14, 13, 12, 11]\n",
            "original list= True\n"
          ]
        }
      ]
    },
    {
      "cell_type": "markdown",
      "source": [
        "# **1.6 WAP to count number of elements present in L**"
      ],
      "metadata": {
        "id": "kBDGzj_Fs-wN"
      }
    },
    {
      "cell_type": "code",
      "source": [
        "L=[11,12,13,14]\n",
        "print(\"original list=\",L)\n",
        "print(\"Num of elements in list are= \",len(L))"
      ],
      "metadata": {
        "id": "jgIVgBh1tH5x",
        "colab": {
          "base_uri": "https://localhost:8080/"
        },
        "outputId": "ed9cc85c-6cfe-4ca4-a411-751551425245"
      },
      "execution_count": null,
      "outputs": [
        {
          "output_type": "stream",
          "name": "stdout",
          "text": [
            "original list= [11, 12, 13, 14]\n",
            "Num of elements in list are=  4\n"
          ]
        }
      ]
    },
    {
      "cell_type": "markdown",
      "source": [
        "# **1.7WAP to sum all elements in L**"
      ],
      "metadata": {
        "id": "I3X8z8mp0rWG"
      }
    },
    {
      "cell_type": "code",
      "source": [
        "l=[11,12,13,14]\n",
        "print(\"original list=\",L)\n",
        "print(\"sum is=\",sum(L))"
      ],
      "metadata": {
        "colab": {
          "base_uri": "https://localhost:8080/"
        },
        "id": "xdnH4b6F1fPm",
        "outputId": "c301d64a-9647-483a-a542-14f14e10fe5d"
      },
      "execution_count": null,
      "outputs": [
        {
          "output_type": "stream",
          "name": "stdout",
          "text": [
            "original list= [11, 12, 13, 14]\n",
            "sum is= 50\n"
          ]
        }
      ]
    },
    {
      "cell_type": "markdown",
      "source": [
        "# **1.8 WAP to sum all odd numbers in L**"
      ],
      "metadata": {
        "id": "vLl7LFle1tIN"
      }
    },
    {
      "cell_type": "code",
      "source": [],
      "metadata": {
        "id": "Z-topxiC15SR"
      },
      "execution_count": null,
      "outputs": []
    },
    {
      "cell_type": "markdown",
      "source": [
        "# **1.9 WAP to sum all even numbers in L**"
      ],
      "metadata": {
        "id": "tmUzu00Q158f"
      }
    },
    {
      "cell_type": "code",
      "source": [],
      "metadata": {
        "id": "vQNoDZNd2CSU"
      },
      "execution_count": null,
      "outputs": []
    },
    {
      "cell_type": "markdown",
      "source": [
        "# **1.10 WAP to sum all prime numbers in L**"
      ],
      "metadata": {
        "id": "_4t_UktK2Fdr"
      }
    },
    {
      "cell_type": "code",
      "source": [],
      "metadata": {
        "id": "ZTF4_M4I2OLC"
      },
      "execution_count": null,
      "outputs": []
    },
    {
      "cell_type": "markdown",
      "source": [
        "# **1.11 WAP to clear all elements in L**"
      ],
      "metadata": {
        "id": "Q9XVNML_2VmI"
      }
    },
    {
      "cell_type": "code",
      "source": [
        "L=[11,12,13,14]\n",
        "L.clear()\n",
        "print(\"after clear list is=\",L)"
      ],
      "metadata": {
        "colab": {
          "base_uri": "https://localhost:8080/"
        },
        "id": "2z6G458d2f7z",
        "outputId": "bb99947d-e40f-4ced-de14-cc597040e61d"
      },
      "execution_count": null,
      "outputs": [
        {
          "output_type": "stream",
          "name": "stdout",
          "text": [
            "after clear list is= []\n"
          ]
        }
      ]
    },
    {
      "cell_type": "markdown",
      "source": [
        "# **1.12 WAP to delete L**"
      ],
      "metadata": {
        "id": "_TJ0MrqG2-zW"
      }
    },
    {
      "cell_type": "code",
      "source": [
        "L=[11,12,13,14]\n",
        "print(\"original list=\",L)\n",
        "del L\n",
        "print(\"after deleting the list= \",L)"
      ],
      "metadata": {
        "colab": {
          "base_uri": "https://localhost:8080/",
          "height": 218
        },
        "id": "p0gT0kU33Mj4",
        "outputId": "a93bfb2c-8a7e-43a9-8d79-0f5fecd08418"
      },
      "execution_count": null,
      "outputs": [
        {
          "output_type": "stream",
          "name": "stdout",
          "text": [
            "original list= [11, 12, 13, 14]\n"
          ]
        },
        {
          "output_type": "error",
          "ename": "NameError",
          "evalue": "ignored",
          "traceback": [
            "\u001b[0;31m---------------------------------------------------------------------------\u001b[0m",
            "\u001b[0;31mNameError\u001b[0m                                 Traceback (most recent call last)",
            "\u001b[0;32m<ipython-input-16-32e18a9003cc>\u001b[0m in \u001b[0;36m<cell line: 4>\u001b[0;34m()\u001b[0m\n\u001b[1;32m      2\u001b[0m \u001b[0mprint\u001b[0m\u001b[0;34m(\u001b[0m\u001b[0;34m\"original list=\"\u001b[0m\u001b[0;34m,\u001b[0m\u001b[0mL\u001b[0m\u001b[0;34m)\u001b[0m\u001b[0;34m\u001b[0m\u001b[0;34m\u001b[0m\u001b[0m\n\u001b[1;32m      3\u001b[0m \u001b[0;32mdel\u001b[0m \u001b[0mL\u001b[0m\u001b[0;34m\u001b[0m\u001b[0;34m\u001b[0m\u001b[0m\n\u001b[0;32m----> 4\u001b[0;31m \u001b[0mprint\u001b[0m\u001b[0;34m(\u001b[0m\u001b[0;34m\"after deleting the list= \"\u001b[0m\u001b[0;34m,\u001b[0m\u001b[0mL\u001b[0m\u001b[0;34m)\u001b[0m\u001b[0;34m\u001b[0m\u001b[0;34m\u001b[0m\u001b[0m\n\u001b[0m",
            "\u001b[0;31mNameError\u001b[0m: name 'L' is not defined"
          ]
        }
      ]
    },
    {
      "cell_type": "markdown",
      "source": [
        "# **Q2 D is dictionary defined as D={1:5.6, 2:7.8, 3:6.6, 4:8.7, 5:7.7}**"
      ],
      "metadata": {
        "id": "IZGnHHHy4HLp"
      }
    },
    {
      "cell_type": "markdown",
      "source": [
        "# **2.1 WAP to add new entry in D=8:8.8**"
      ],
      "metadata": {
        "id": "eTMUOBp65Ca_"
      }
    },
    {
      "cell_type": "code",
      "source": [
        "D={1:5.6, 2:7.8, 3:6.6, 4:8.7, 5:7.7}\n",
        "print(\"dictionary is=\",D)\n"
      ],
      "metadata": {
        "id": "1qQ8nn0n4_eK"
      },
      "execution_count": null,
      "outputs": []
    }
  ]
}