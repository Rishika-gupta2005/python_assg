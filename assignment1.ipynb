{
  "nbformat": 4,
  "nbformat_minor": 0,
  "metadata": {
    "colab": {
      "provenance": []
    },
    "kernelspec": {
      "name": "python3",
      "display_name": "Python 3"
    },
    "language_info": {
      "name": "python"
    }
  },
  "cells": [
    {
      "cell_type": "markdown",
      "source": [
        "# **Phython assignment**"
      ],
      "metadata": {
        "id": "QVzQa5hyJaPa"
      }
    },
    {
      "cell_type": "markdown",
      "source": [
        "# **Q1 L is a list defined as L=[11,12,13,14]**"
      ],
      "metadata": {
        "id": "wbGQ29VJpZko"
      }
    },
    {
      "cell_type": "markdown",
      "source": [
        "# **1.1 WAP to add 50 and 60 to L**"
      ],
      "metadata": {
        "id": "EGR2B1KOp6S9"
      }
    },
    {
      "cell_type": "code",
      "source": [
        "L=[11,12,13,14]\n",
        "print (\"original list =\",L)\n",
        "\n",
        "L.append(50)\n",
        "print(\"after adding (50)=\",L)\n",
        "\n",
        "L.append(60)\n",
        "print(\"after adding (60)=\",L)"
      ],
      "metadata": {
        "colab": {
          "base_uri": "https://localhost:8080/"
        },
        "id": "2vaf-nHiqDUw",
        "outputId": "06733a9d-04f2-4746-b334-ed2300a08be0"
      },
      "execution_count": null,
      "outputs": [
        {
          "output_type": "stream",
          "name": "stdout",
          "text": [
            "original list = [11, 12, 13, 14]\n",
            "after adding (50)= [11, 12, 13, 14, 50]\n",
            "after adding (60)= [11, 12, 13, 14, 50, 60]\n"
          ]
        }
      ]
    },
    {
      "cell_type": "markdown",
      "source": [
        "# **1.2 WAP to remove 11 and 13 from L**"
      ],
      "metadata": {
        "id": "6dw4EG3crCU4"
      }
    },
    {
      "cell_type": "code",
      "source": [
        "L=[11,12,13,14]\n",
        "print(\"original list=\",L)\n",
        "\n",
        "del L[0]\n",
        "print(\"after deletion=\",L)\n",
        "\n",
        "del L[2]\n",
        "print(\"after deletion=\",L)"
      ],
      "metadata": {
        "colab": {
          "base_uri": "https://localhost:8080/"
        },
        "id": "1kmADcewrK41",
        "outputId": "f657410d-2e73-4480-9d50-cf8db007e685"
      },
      "execution_count": null,
      "outputs": [
        {
          "output_type": "stream",
          "name": "stdout",
          "text": [
            "original list= [11, 12, 13, 14]\n",
            "after deletion= [12, 13, 14]\n",
            "after deletion= [12, 13]\n"
          ]
        }
      ]
    },
    {
      "cell_type": "markdown",
      "source": [
        "# **1.3 WAP to sort L in ascending order**"
      ],
      "metadata": {
        "id": "lMo-gCGgrjhc"
      }
    },
    {
      "cell_type": "code",
      "source": [
        "L=[11,12,14,13]\n",
        "print(\"original list=\",L)\n",
        "\n",
        "L.sort()\n",
        "print(\"after sorting=\",L)"
      ],
      "metadata": {
        "colab": {
          "base_uri": "https://localhost:8080/"
        },
        "id": "_ElJ4HfZrvrO",
        "outputId": "f5316677-29cf-4edf-f268-86f1713e0fdf"
      },
      "execution_count": null,
      "outputs": [
        {
          "output_type": "stream",
          "name": "stdout",
          "text": [
            "original list= [11, 12, 14, 13]\n",
            "after sorting= [11, 12, 13, 14]\n"
          ]
        }
      ]
    },
    {
      "cell_type": "markdown",
      "source": [
        "# **1.4 WAP to sort L in descending order**"
      ],
      "metadata": {
        "id": "uHdD69onsCTI"
      }
    },
    {
      "cell_type": "code",
      "source": [
        "L=[11,14,13,12]\n",
        "print(\"original list=\",L)\n",
        "\n",
        "L.sort(reverse=True)\n",
        "print(\"after sorting in descending order=\",L)"
      ],
      "metadata": {
        "colab": {
          "base_uri": "https://localhost:8080/"
        },
        "id": "n3QQJSBssKGo",
        "outputId": "edd400d2-66ec-416c-bf92-53ca12c35bbf"
      },
      "execution_count": null,
      "outputs": [
        {
          "output_type": "stream",
          "name": "stdout",
          "text": [
            "original list= [11, 14, 13, 12]\n",
            "after sorting in descending order= [14, 13, 12, 11]\n"
          ]
        }
      ]
    },
    {
      "cell_type": "markdown",
      "source": [
        "# **1.5 WAP to search in L**"
      ],
      "metadata": {
        "id": "6kAngKH5sfD9"
      }
    },
    {
      "cell_type": "code",
      "source": [
        "l=[11,12,13,14]\n",
        "print(\"original list=\",L)\n",
        "print(\"13 in L=\",13 in L)"
      ],
      "metadata": {
        "colab": {
          "base_uri": "https://localhost:8080/"
        },
        "id": "DkMbibQ9slJy",
        "outputId": "33297bf6-7564-43af-ad85-3bd7319224a7"
      },
      "execution_count": null,
      "outputs": [
        {
          "output_type": "stream",
          "name": "stdout",
          "text": [
            "original list= [14, 13, 12, 11]\n",
            "original list= True\n"
          ]
        }
      ]
    },
    {
      "cell_type": "markdown",
      "source": [
        "# **1.6 WAP to count number of elements present in L**"
      ],
      "metadata": {
        "id": "kBDGzj_Fs-wN"
      }
    },
    {
      "cell_type": "code",
      "source": [
        "L=[11,12,13,14]\n",
        "print(\"original list=\",L)\n",
        "print(\"Num of elements in list are= \",len(L))"
      ],
      "metadata": {
        "id": "jgIVgBh1tH5x",
        "colab": {
          "base_uri": "https://localhost:8080/"
        },
        "outputId": "ed9cc85c-6cfe-4ca4-a411-751551425245"
      },
      "execution_count": null,
      "outputs": [
        {
          "output_type": "stream",
          "name": "stdout",
          "text": [
            "original list= [11, 12, 13, 14]\n",
            "Num of elements in list are=  4\n"
          ]
        }
      ]
    },
    {
      "cell_type": "markdown",
      "source": [
        "# **1.7WAP to sum all elements in L**"
      ],
      "metadata": {
        "id": "I3X8z8mp0rWG"
      }
    },
    {
      "cell_type": "code",
      "source": [
        "l=[11,12,13,14]\n",
        "print(\"original list=\",L)\n",
        "print(\"sum is=\",sum(L))"
      ],
      "metadata": {
        "colab": {
          "base_uri": "https://localhost:8080/"
        },
        "id": "xdnH4b6F1fPm",
        "outputId": "c301d64a-9647-483a-a542-14f14e10fe5d"
      },
      "execution_count": null,
      "outputs": [
        {
          "output_type": "stream",
          "name": "stdout",
          "text": [
            "original list= [11, 12, 13, 14]\n",
            "sum is= 50\n"
          ]
        }
      ]
    },
    {
      "cell_type": "markdown",
      "source": [
        "# **1.8 WAP to sum all odd numbers in L**"
      ],
      "metadata": {
        "id": "vLl7LFle1tIN"
      }
    },
    {
      "cell_type": "code",
      "source": [
        "l=[11,12,13,14]\n",
        "\n",
        "sum=0\n",
        "\n",
        "for i in l:\n",
        "  if i%2!=0:\n",
        "    sum += i\n",
        "print(\"sum of odd num is=\",sum)"
      ],
      "metadata": {
        "id": "Z-topxiC15SR",
        "colab": {
          "base_uri": "https://localhost:8080/"
        },
        "outputId": "83fafdb3-6286-40b8-e498-f2d4394dd6aa"
      },
      "execution_count": null,
      "outputs": [
        {
          "output_type": "stream",
          "name": "stdout",
          "text": [
            "sum of odd num is= 24\n"
          ]
        }
      ]
    },
    {
      "cell_type": "markdown",
      "source": [
        "# **1.9 WAP to sum all even numbers in L**"
      ],
      "metadata": {
        "id": "tmUzu00Q158f"
      }
    },
    {
      "cell_type": "code",
      "source": [
        "l=[11,12,13,14]\n",
        "\n",
        "sum=0\n",
        "\n",
        "for i in l:\n",
        "  if i%2==0:\n",
        "    sum += i\n",
        "print(\"sum of even num is=\",sum)"
      ],
      "metadata": {
        "id": "vQNoDZNd2CSU",
        "colab": {
          "base_uri": "https://localhost:8080/"
        },
        "outputId": "1243178a-b73f-419f-8d16-d731b18718fe"
      },
      "execution_count": null,
      "outputs": [
        {
          "output_type": "stream",
          "name": "stdout",
          "text": [
            "sum of even num is= 26\n"
          ]
        }
      ]
    },
    {
      "cell_type": "markdown",
      "source": [
        "# **1.10 WAP to sum all prime numbers in L**"
      ],
      "metadata": {
        "id": "_4t_UktK2Fdr"
      }
    },
    {
      "cell_type": "code",
      "source": [
        "l=[11,12,13,14]\n",
        "\n",
        "def Prime(x):\n",
        "  if x<2:\n",
        "    return 0\n",
        "  for i in range(2,x):\n",
        "    if x%i==0:\n",
        "      return 0\n",
        "    return 1\n",
        "\n",
        "sum=0\n",
        "\n",
        "for i in l:\n",
        "  if Prime(i)==0:\n",
        "    sum += i\n",
        "\n",
        "print(\"sum is=\",sum)"
      ],
      "metadata": {
        "id": "ZTF4_M4I2OLC",
        "colab": {
          "base_uri": "https://localhost:8080/"
        },
        "outputId": "d8b333ce-1fc0-422c-abe9-08a80a82c607"
      },
      "execution_count": 29,
      "outputs": [
        {
          "output_type": "stream",
          "name": "stdout",
          "text": [
            "sum is= 26\n"
          ]
        }
      ]
    },
    {
      "cell_type": "markdown",
      "source": [
        "# **1.11 WAP to clear all elements in L**"
      ],
      "metadata": {
        "id": "Q9XVNML_2VmI"
      }
    },
    {
      "cell_type": "code",
      "source": [
        "L=[11,12,13,14]\n",
        "L.clear()\n",
        "print(\"after clear list is=\",L)"
      ],
      "metadata": {
        "colab": {
          "base_uri": "https://localhost:8080/"
        },
        "id": "2z6G458d2f7z",
        "outputId": "bb99947d-e40f-4ced-de14-cc597040e61d"
      },
      "execution_count": null,
      "outputs": [
        {
          "output_type": "stream",
          "name": "stdout",
          "text": [
            "after clear list is= []\n"
          ]
        }
      ]
    },
    {
      "cell_type": "markdown",
      "source": [
        "# **1.12 WAP to delete L**"
      ],
      "metadata": {
        "id": "_TJ0MrqG2-zW"
      }
    },
    {
      "cell_type": "code",
      "source": [
        "L=[11,12,13,14]\n",
        "print(\"original list=\",L)\n",
        "del L\n",
        "print(\"after deleting the list= \",L)"
      ],
      "metadata": {
        "colab": {
          "base_uri": "https://localhost:8080/",
          "height": 218
        },
        "id": "p0gT0kU33Mj4",
        "outputId": "a93bfb2c-8a7e-43a9-8d79-0f5fecd08418"
      },
      "execution_count": null,
      "outputs": [
        {
          "output_type": "stream",
          "name": "stdout",
          "text": [
            "original list= [11, 12, 13, 14]\n"
          ]
        },
        {
          "output_type": "error",
          "ename": "NameError",
          "evalue": "ignored",
          "traceback": [
            "\u001b[0;31m---------------------------------------------------------------------------\u001b[0m",
            "\u001b[0;31mNameError\u001b[0m                                 Traceback (most recent call last)",
            "\u001b[0;32m<ipython-input-16-32e18a9003cc>\u001b[0m in \u001b[0;36m<cell line: 4>\u001b[0;34m()\u001b[0m\n\u001b[1;32m      2\u001b[0m \u001b[0mprint\u001b[0m\u001b[0;34m(\u001b[0m\u001b[0;34m\"original list=\"\u001b[0m\u001b[0;34m,\u001b[0m\u001b[0mL\u001b[0m\u001b[0;34m)\u001b[0m\u001b[0;34m\u001b[0m\u001b[0;34m\u001b[0m\u001b[0m\n\u001b[1;32m      3\u001b[0m \u001b[0;32mdel\u001b[0m \u001b[0mL\u001b[0m\u001b[0;34m\u001b[0m\u001b[0;34m\u001b[0m\u001b[0m\n\u001b[0;32m----> 4\u001b[0;31m \u001b[0mprint\u001b[0m\u001b[0;34m(\u001b[0m\u001b[0;34m\"after deleting the list= \"\u001b[0m\u001b[0;34m,\u001b[0m\u001b[0mL\u001b[0m\u001b[0;34m)\u001b[0m\u001b[0;34m\u001b[0m\u001b[0;34m\u001b[0m\u001b[0m\n\u001b[0m",
            "\u001b[0;31mNameError\u001b[0m: name 'L' is not defined"
          ]
        }
      ]
    },
    {
      "cell_type": "markdown",
      "source": [
        "# **Q2 D is dictionary defined as D={1:5.6, 2:7.8, 3:6.6, 4:8.7, 5:7.7}**"
      ],
      "metadata": {
        "id": "IZGnHHHy4HLp"
      }
    },
    {
      "cell_type": "markdown",
      "source": [
        "# **2.1 WAP to add new entry in D=8:8.8**"
      ],
      "metadata": {
        "id": "eTMUOBp65Ca_"
      }
    },
    {
      "cell_type": "code",
      "source": [
        "D={1:5.6, 2:7.8, 3:6.6, 4:8.7, 5:7.7}\n",
        "print(\"dictionary is=\",D)\n",
        "\n",
        "D[8]=8.8\n",
        "print(\"after adding list is=\",D)\n"
      ],
      "metadata": {
        "id": "1qQ8nn0n4_eK",
        "colab": {
          "base_uri": "https://localhost:8080/"
        },
        "outputId": "37434927-b7b8-40d1-9242-fb790110e49e"
      },
      "execution_count": null,
      "outputs": [
        {
          "output_type": "stream",
          "name": "stdout",
          "text": [
            "dictionary is= {1: 5.6, 2: 7.8, 3: 6.6, 4: 8.7, 5: 7.7}\n",
            "after adding list is= {1: 5.6, 2: 7.8, 3: 6.6, 4: 8.7, 5: 7.7, 8: 8.8}\n"
          ]
        }
      ]
    },
    {
      "cell_type": "markdown",
      "source": [
        "# **2.2 WAP to remove key=2**"
      ],
      "metadata": {
        "id": "9jAdL8k4SHN3"
      }
    },
    {
      "cell_type": "code",
      "source": [
        "D={1:5.6, 2:7.8, 3:6.6, 4:8.7, 5:7.7}\n",
        "print(\"original D is=\",D)\n",
        "\n",
        "del D[2]\n",
        "print(\"after deleting=\",D)"
      ],
      "metadata": {
        "colab": {
          "base_uri": "https://localhost:8080/"
        },
        "id": "lJjY05g4SQy6",
        "outputId": "13653c3d-881e-4564-9ae4-3cbe62916052"
      },
      "execution_count": null,
      "outputs": [
        {
          "output_type": "stream",
          "name": "stdout",
          "text": [
            "original D is= {1: 5.6, 2: 7.8, 3: 6.6, 4: 8.7, 5: 7.7}\n",
            "after deleting= {1: 5.6, 3: 6.6, 4: 8.7, 5: 7.7}\n"
          ]
        }
      ]
    },
    {
      "cell_type": "markdown",
      "source": [
        "# **2.3 WAP to check whether key is present in D or not**"
      ],
      "metadata": {
        "id": "KyENGIxVSp-l"
      }
    },
    {
      "cell_type": "code",
      "source": [
        "D={1:5.6, 2:7.8, 3:6.6, 4:8.7, 5:7.7}\n",
        "print(\"original D is=\",D)\n",
        "print(\"is key 6 present in D=\",6 in D)"
      ],
      "metadata": {
        "colab": {
          "base_uri": "https://localhost:8080/"
        },
        "id": "C9OrKXIaSzqW",
        "outputId": "d9955088-9461-46ca-8404-26d5cb9ee0aa"
      },
      "execution_count": null,
      "outputs": [
        {
          "output_type": "stream",
          "name": "stdout",
          "text": [
            "original D is= {1: 5.6, 2: 7.8, 3: 6.6, 4: 8.7, 5: 7.7}\n",
            "is key 6 present in D= False\n"
          ]
        }
      ]
    },
    {
      "cell_type": "markdown",
      "source": [
        "# **2.4 WAP to count number of elements in D**"
      ],
      "metadata": {
        "id": "UJgXUkBYTFfJ"
      }
    },
    {
      "cell_type": "code",
      "source": [
        "D={1:5.6, 2:7.8, 3:6.6, 4:8.7, 5:7.7}\n",
        "print(\"original D is=\",D)\n",
        "print(\"elements in D are=\",len(D))"
      ],
      "metadata": {
        "colab": {
          "base_uri": "https://localhost:8080/"
        },
        "id": "OIDTv4bRp68M",
        "outputId": "d69e270d-02a2-4588-a923-426c70e5e0ae"
      },
      "execution_count": null,
      "outputs": [
        {
          "output_type": "stream",
          "name": "stdout",
          "text": [
            "original D is= {1: 5.6, 2: 7.8, 3: 6.6, 4: 8.7, 5: 7.7}\n",
            "elements in D are= 5\n"
          ]
        }
      ]
    },
    {
      "cell_type": "markdown",
      "source": [
        "# **2.5 WAP to add all values in D**"
      ],
      "metadata": {
        "id": "Tv78u9WHqPPv"
      }
    },
    {
      "cell_type": "code",
      "source": [
        "D={1:5.6, 2:7.8, 3:6.6, 4:8.7, 5:7.7}\n",
        "print(\"original D is=\",D)\n",
        "print(\"sum is=\",sum(D))"
      ],
      "metadata": {
        "colab": {
          "base_uri": "https://localhost:8080/"
        },
        "id": "N91V3b7NqV3I",
        "outputId": "1662e4ed-25c2-4399-a6c0-32cd6922d1dd"
      },
      "execution_count": null,
      "outputs": [
        {
          "output_type": "stream",
          "name": "stdout",
          "text": [
            "original D is= {1: 5.6, 2: 7.8, 3: 6.6, 4: 8.7, 5: 7.7}\n",
            "sum is= 15\n"
          ]
        }
      ]
    },
    {
      "cell_type": "markdown",
      "source": [
        "# **2.6 WAP to update value of 3 to 7.1**"
      ],
      "metadata": {
        "id": "9POzlN0fq_p_"
      }
    },
    {
      "cell_type": "code",
      "source": [
        "D={1:5.6, 2:7.8, 3:6.6, 4:8.7, 5:7.7}\n",
        "print(\"original D is=\",D)\n",
        "D[3]=7.1\n",
        "print(\"after updating=\",D)"
      ],
      "metadata": {
        "colab": {
          "base_uri": "https://localhost:8080/"
        },
        "id": "SPN0J5i5rIiN",
        "outputId": "4398982b-2c9e-4c56-b316-fe903d940efc"
      },
      "execution_count": null,
      "outputs": [
        {
          "output_type": "stream",
          "name": "stdout",
          "text": [
            "original D is= {1: 5.6, 2: 7.8, 3: 6.6, 4: 8.7, 5: 7.7}\n",
            "after updating= {1: 5.6, 2: 7.8, 3: 7.1, 4: 8.7, 5: 7.7}\n"
          ]
        }
      ]
    },
    {
      "cell_type": "markdown",
      "source": [
        "# **2.7 WAP to clear dictionary**"
      ],
      "metadata": {
        "id": "IszosOD5rSle"
      }
    },
    {
      "cell_type": "code",
      "source": [
        "D={1:5.6, 2:7.8, 3:6.6, 4:8.7, 5:7.7}\n",
        "print(\"original D is=\",D)\n",
        "D.clear()\n",
        "print(\"D is=\",D)"
      ],
      "metadata": {
        "colab": {
          "base_uri": "https://localhost:8080/"
        },
        "id": "LkIsmdfarZZ9",
        "outputId": "a435aa1c-4890-486c-8a4a-b1c1177adcb1"
      },
      "execution_count": null,
      "outputs": [
        {
          "output_type": "stream",
          "name": "stdout",
          "text": [
            "original D is= {1: 5.6, 2: 7.8, 3: 6.6, 4: 8.7, 5: 7.7}\n",
            "D is= {}\n"
          ]
        }
      ]
    },
    {
      "cell_type": "markdown",
      "source": [
        "# **Q3 ques related to sets**"
      ],
      "metadata": {
        "id": "ZoAY8Ytrrj8e"
      }
    },
    {
      "cell_type": "markdown",
      "source": [
        "# **3.1 WAP to add 55 and 66 in set1**"
      ],
      "metadata": {
        "id": "4OYNVe2OrtDL"
      }
    },
    {
      "cell_type": "code",
      "source": [
        "S1=set([10,20,30,40,50,60])\n",
        "print(\"S1 is=\",S1)\n",
        "\n",
        "S1.add(\"55\")\n",
        "print(\"after adding=\",S1)\n",
        "\n",
        "S1.add(\"66\")\n",
        "print(\"after adding=\",S1)"
      ],
      "metadata": {
        "colab": {
          "base_uri": "https://localhost:8080/"
        },
        "id": "swqfMZNdr0Bn",
        "outputId": "525e105b-98c4-4a84-e28f-f46e2c3e2f15"
      },
      "execution_count": null,
      "outputs": [
        {
          "output_type": "stream",
          "name": "stdout",
          "text": [
            "S1 is= {40, 10, 50, 20, 60, 30}\n",
            "after adding= {40, 10, '55', 50, 20, 60, 30}\n",
            "after adding= {40, 10, '55', 50, '66', 20, 60, 30}\n"
          ]
        }
      ]
    },
    {
      "cell_type": "markdown",
      "source": [
        "# **3.2 WAP to remove 10 and 30 ffrom set S1**"
      ],
      "metadata": {
        "id": "8DVEh9NWsVg2"
      }
    },
    {
      "cell_type": "code",
      "source": [
        "S1=set([10,20,30,40,50,60])\n",
        "print(\"S1 is=\",S1)\n",
        "\n",
        "S1.remove(10)\n",
        "print(\"after deletion=\",S1)\n",
        "\n",
        "S1.remove(30)\n",
        "print(\"after deletion=\",S1)"
      ],
      "metadata": {
        "colab": {
          "base_uri": "https://localhost:8080/"
        },
        "id": "W_LYRhkhscln",
        "outputId": "41d8a8dd-9afd-4261-9973-56d54d5fc62a"
      },
      "execution_count": null,
      "outputs": [
        {
          "output_type": "stream",
          "name": "stdout",
          "text": [
            "S1 is= {40, 10, 50, 20, 60, 30}\n",
            "after deletion= {40, 50, 20, 60, 30}\n",
            "after deletion= {40, 50, 20, 60}\n"
          ]
        }
      ]
    },
    {
      "cell_type": "markdown",
      "source": [
        "# **3.3 WAP to check whether 40 is present in S1**"
      ],
      "metadata": {
        "id": "RHvGwjfZs5iV"
      }
    },
    {
      "cell_type": "code",
      "source": [
        "S1=set([10,20,30,40,50,60])\n",
        "print(\"S1 is=\",S1)\n",
        "print(\"set=\",40 in S1)"
      ],
      "metadata": {
        "colab": {
          "base_uri": "https://localhost:8080/"
        },
        "id": "xOkdP8xYtK2L",
        "outputId": "e0deb595-c6b6-4fb2-93ed-2713a4ab3e06"
      },
      "execution_count": null,
      "outputs": [
        {
          "output_type": "stream",
          "name": "stdout",
          "text": [
            "S1 is= {40, 10, 50, 20, 60, 30}\n",
            "set= True\n"
          ]
        }
      ]
    },
    {
      "cell_type": "markdown",
      "source": [
        "# **3.4 WAP to find union between S1 and S2**"
      ],
      "metadata": {
        "id": "Nh0Uo6DqtRti"
      }
    },
    {
      "cell_type": "code",
      "source": [
        "S1=set([10,20,30,40,50,60])\n",
        "print(\"S1 is=\",S1)\n",
        "S2=set([40,50,60,70,80,90])\n",
        "print(\"S2 is=\",S2)\n",
        "print(\"union of set S1 and S2 is=\",S1.union(S2))"
      ],
      "metadata": {
        "colab": {
          "base_uri": "https://localhost:8080/"
        },
        "id": "WXT8mgm4taKh",
        "outputId": "1ded0d02-2fc6-45c6-d173-55442dd29c70"
      },
      "execution_count": null,
      "outputs": [
        {
          "output_type": "stream",
          "name": "stdout",
          "text": [
            "S1 is= {40, 10, 50, 20, 60, 30}\n",
            "S2 is= {70, 40, 80, 50, 90, 60}\n",
            "union of set S1 and S2 is= {70, 40, 10, 80, 50, 20, 90, 60, 30}\n"
          ]
        }
      ]
    },
    {
      "cell_type": "markdown",
      "source": [
        "# **3.5 WAP to find intersection between S1 and S2**"
      ],
      "metadata": {
        "id": "xnRBwAkntums"
      }
    },
    {
      "cell_type": "code",
      "source": [
        "S1=set([10,20,30,40,50,60])\n",
        "print(\"S1 is=\",S1)\n",
        "S2=set([40,50,60,70,80,90])\n",
        "print(\"S2 is=\",S2)\n",
        "print(\"intersection of S1 and S2=\",S1.intersection(S2))"
      ],
      "metadata": {
        "colab": {
          "base_uri": "https://localhost:8080/"
        },
        "id": "xV8NY6Vut3et",
        "outputId": "959fcb58-7ffe-4d8f-ea9a-b260f8b37483"
      },
      "execution_count": null,
      "outputs": [
        {
          "output_type": "stream",
          "name": "stdout",
          "text": [
            "S1 is= {40, 10, 50, 20, 60, 30}\n",
            "S2 is= {70, 40, 80, 50, 90, 60}\n",
            "intersection of S1 and S2= {40, 50, 60}\n"
          ]
        }
      ]
    },
    {
      "cell_type": "markdown",
      "source": [
        "# **3.6 WAP to find S1-S2**"
      ],
      "metadata": {
        "id": "EUEBHDEJuMjp"
      }
    },
    {
      "cell_type": "code",
      "source": [
        "S1=set([10,20,30,40,50,60])\n",
        "print(\"S1 is=\",S1)\n",
        "S2=set([40,50,60,70,80,90])\n",
        "print(\"S2 is=\",S2)\n",
        "print(\"difference of S1 and S2=\",S1-S2)"
      ],
      "metadata": {
        "colab": {
          "base_uri": "https://localhost:8080/"
        },
        "id": "6R2n3CMOueKd",
        "outputId": "fb1c3199-5dca-4dcd-d117-a56d12ad928a"
      },
      "execution_count": null,
      "outputs": [
        {
          "output_type": "stream",
          "name": "stdout",
          "text": [
            "S1 is= {40, 10, 50, 20, 60, 30}\n",
            "S2 is= {70, 40, 80, 50, 90, 60}\n",
            "difference of S1 and S2= {10, 20, 30}\n"
          ]
        }
      ]
    },
    {
      "cell_type": "markdown",
      "source": [
        "# **Q4 Write the following program**"
      ],
      "metadata": {
        "id": "4_W1EyTIurxC"
      }
    },
    {
      "cell_type": "markdown",
      "source": [
        "# **4.1 WAP to print 100 random string whose length between 6 and 8**"
      ],
      "metadata": {
        "id": "aGPU_Wpvu3Ud"
      }
    },
    {
      "cell_type": "code",
      "source": [
        "import random as r\n",
        "import string as s\n",
        "\n",
        "for i in range(100):\n",
        "  x=r.randint(6,8)\n",
        "  y=r.sample(s.ascii_letters, x)\n",
        "  print(\"\".join(y))\n",
        "\n"
      ],
      "metadata": {
        "id": "pGYkpyV4vBVm",
        "colab": {
          "base_uri": "https://localhost:8080/"
        },
        "outputId": "b3e8a8b4-0bef-4504-c195-b4ba232e67c6"
      },
      "execution_count": 34,
      "outputs": [
        {
          "output_type": "stream",
          "name": "stdout",
          "text": [
            "KsLeVA\n",
            "fQnTzaGC\n",
            "AHMeks\n",
            "LDyBGJ\n",
            "NwHYBOl\n",
            "OQxbdE\n",
            "CEKZWy\n",
            "chKvBx\n",
            "WgfUnwBs\n",
            "bdiDcWAG\n",
            "IWdABwny\n",
            "SAZnfzWk\n",
            "XAlPcDZL\n",
            "MQLPWr\n",
            "gpMzHBde\n",
            "HwNosYuW\n",
            "xKkZbcQU\n",
            "IneQlUzq\n",
            "gTOdMmt\n",
            "VCPBhtKN\n",
            "NbhIya\n",
            "SzUyZWC\n",
            "eIwncPv\n",
            "TWewsVU\n",
            "hxKEWM\n",
            "nKctzId\n",
            "BGidtAM\n",
            "tmsZMoVH\n",
            "WdwtfLa\n",
            "HYVOlu\n",
            "RmzAei\n",
            "sJwxuo\n",
            "IgYBQs\n",
            "WkNESJeX\n",
            "TkNexvfn\n",
            "KEnmHyFQ\n",
            "gqPTkyOj\n",
            "rhcNMFZ\n",
            "ioZzRlW\n",
            "NCdvJBSi\n",
            "MduOmSL\n",
            "KwfxGalb\n",
            "TCeubQHL\n",
            "xOnisfVM\n",
            "mVfQkU\n",
            "dSVUBreX\n",
            "FcsQeIUX\n",
            "OsDZlN\n",
            "HGkocZex\n",
            "FeCEPJ\n",
            "rbwEKZCL\n",
            "sYuqip\n",
            "qKbePoJ\n",
            "jLNzVuRA\n",
            "dsMxFt\n",
            "NoSZgbLR\n",
            "KFnqzDi\n",
            "vdRkUhy\n",
            "zwEyZk\n",
            "JOgTpvQN\n",
            "NeudOD\n",
            "AIfnHEl\n",
            "ExNTIuF\n",
            "oRgdEkNl\n",
            "iQBIsek\n",
            "PZzbcO\n",
            "RLdWFvyp\n",
            "QTjqolw\n",
            "YyRHslnu\n",
            "KHSfOP\n",
            "XTxCVQ\n",
            "jmcxiW\n",
            "BAGpSlo\n",
            "nxmzXk\n",
            "VnHMWiq\n",
            "RKsHuGl\n",
            "DJEpmob\n",
            "FPbUXyMo\n",
            "EzeRfck\n",
            "CKIPyX\n",
            "CXKkjF\n",
            "snxiwrh\n",
            "YXgvZIrU\n",
            "lSIrtyu\n",
            "DiJaFAB\n",
            "JkDvsTb\n",
            "yVDwqZu\n",
            "oxPzUKh\n",
            "dOUhkLb\n",
            "YXcSCsDi\n",
            "UsHmdA\n",
            "GEuYzPH\n",
            "USHEhGAW\n",
            "wBRkfh\n",
            "pIHUaV\n",
            "VdrQWS\n",
            "iTnlavH\n",
            "EMgJTO\n",
            "vNFcGsfK\n",
            "zluQcfjN\n"
          ]
        }
      ]
    },
    {
      "cell_type": "markdown",
      "source": [
        "# **4.2 WAP to print all prime numbers between 600 and 800**"
      ],
      "metadata": {
        "id": "Q72NsfQ7vB_t"
      }
    },
    {
      "cell_type": "code",
      "source": [
        "def Prime(n):\n",
        "  if n<2:\n",
        "    return 0\n",
        "  for i in range(2, n//2+1):\n",
        "    if n%i==0:\n",
        "      return 0\n",
        "  return 1\n",
        "\n",
        "for i in range(600,800):\n",
        "  if Prime(i)==1:\n",
        "    print(i,end=' ')\n"
      ],
      "metadata": {
        "colab": {
          "base_uri": "https://localhost:8080/"
        },
        "id": "aUM6Uz51vO0b",
        "outputId": "6ba6faab-d823-4f4c-ef33-87e65ae33e37"
      },
      "execution_count": 41,
      "outputs": [
        {
          "output_type": "stream",
          "name": "stdout",
          "text": [
            "601 607 613 617 619 631 641 643 647 653 659 661 673 677 683 691 701 709 719 727 733 739 743 751 757 761 769 773 787 797 "
          ]
        }
      ]
    },
    {
      "cell_type": "markdown",
      "source": [
        "# **4.3 WAP to print all num between 100 and 1000 that are divisible by 7 and 9**"
      ],
      "metadata": {
        "id": "6m3Yl9swwyoo"
      }
    },
    {
      "cell_type": "code",
      "source": [
        "for i in range(100,1000):\n",
        " if i%7==0:\n",
        "  print(i)\n",
        "\n",
        "for i in range(100,1000):\n",
        "  if i%9==0:\n",
        "    print(i,end=' ')"
      ],
      "metadata": {
        "colab": {
          "base_uri": "https://localhost:8080/"
        },
        "id": "e8idzAz6xAQZ",
        "outputId": "08c34d6f-3981-400d-91b3-41cc1ceee34b"
      },
      "execution_count": 42,
      "outputs": [
        {
          "output_type": "stream",
          "name": "stdout",
          "text": [
            "105\n",
            "112\n",
            "119\n",
            "126\n",
            "133\n",
            "140\n",
            "147\n",
            "154\n",
            "161\n",
            "168\n",
            "175\n",
            "182\n",
            "189\n",
            "196\n",
            "203\n",
            "210\n",
            "217\n",
            "224\n",
            "231\n",
            "238\n",
            "245\n",
            "252\n",
            "259\n",
            "266\n",
            "273\n",
            "280\n",
            "287\n",
            "294\n",
            "301\n",
            "308\n",
            "315\n",
            "322\n",
            "329\n",
            "336\n",
            "343\n",
            "350\n",
            "357\n",
            "364\n",
            "371\n",
            "378\n",
            "385\n",
            "392\n",
            "399\n",
            "406\n",
            "413\n",
            "420\n",
            "427\n",
            "434\n",
            "441\n",
            "448\n",
            "455\n",
            "462\n",
            "469\n",
            "476\n",
            "483\n",
            "490\n",
            "497\n",
            "504\n",
            "511\n",
            "518\n",
            "525\n",
            "532\n",
            "539\n",
            "546\n",
            "553\n",
            "560\n",
            "567\n",
            "574\n",
            "581\n",
            "588\n",
            "595\n",
            "602\n",
            "609\n",
            "616\n",
            "623\n",
            "630\n",
            "637\n",
            "644\n",
            "651\n",
            "658\n",
            "665\n",
            "672\n",
            "679\n",
            "686\n",
            "693\n",
            "700\n",
            "707\n",
            "714\n",
            "721\n",
            "728\n",
            "735\n",
            "742\n",
            "749\n",
            "756\n",
            "763\n",
            "770\n",
            "777\n",
            "784\n",
            "791\n",
            "798\n",
            "805\n",
            "812\n",
            "819\n",
            "826\n",
            "833\n",
            "840\n",
            "847\n",
            "854\n",
            "861\n",
            "868\n",
            "875\n",
            "882\n",
            "889\n",
            "896\n",
            "903\n",
            "910\n",
            "917\n",
            "924\n",
            "931\n",
            "938\n",
            "945\n",
            "952\n",
            "959\n",
            "966\n",
            "973\n",
            "980\n",
            "987\n",
            "994\n",
            "108 117 126 135 144 153 162 171 180 189 198 207 216 225 234 243 252 261 270 279 288 297 306 315 324 333 342 351 360 369 378 387 396 405 414 423 432 441 450 459 468 477 486 495 504 513 522 531 540 549 558 567 576 585 594 603 612 621 630 639 648 657 666 675 684 693 702 711 720 729 738 747 756 765 774 783 792 801 810 819 828 837 846 855 864 873 882 891 900 909 918 927 936 945 954 963 972 981 990 999 "
          ]
        }
      ]
    },
    {
      "cell_type": "markdown",
      "source": [
        "# **Q5 ques related to random numbers**\n",
        "\n",
        "**WAP to create 2 list of 10 random numbers between 10 and 30**"
      ],
      "metadata": {
        "id": "DJi_WzwRxdOa"
      }
    },
    {
      "cell_type": "markdown",
      "source": [
        "# **5.1 WAP to find common numbers in list**"
      ],
      "metadata": {
        "id": "2ib4BHH7x3fV"
      }
    },
    {
      "cell_type": "code",
      "source": [
        "import random\n",
        "inputNumbers =range(10,30)\n",
        "print(\"L1=\",random.choices(inputNumbers,k=10))\n",
        "print(\"L2=\",random.choices(inputNumbers,k=10))\n"
      ],
      "metadata": {
        "colab": {
          "base_uri": "https://localhost:8080/"
        },
        "id": "elYaZnYWyAP2",
        "outputId": "d448008c-02d8-4de9-f063-446fe66b7f49"
      },
      "execution_count": null,
      "outputs": [
        {
          "output_type": "stream",
          "name": "stdout",
          "text": [
            "L1= [16, 17, 19, 22, 27, 28, 24, 15, 24, 23]\n",
            "L2= [28, 20, 23, 29, 24, 21, 23, 24, 25, 24]\n"
          ]
        }
      ]
    },
    {
      "cell_type": "markdown",
      "source": [
        "# **5.2 WAP to find minimum in list**"
      ],
      "metadata": {
        "id": "P6MegMBO5sDi"
      }
    },
    {
      "cell_type": "code",
      "source": [
        "L1=[16,17,19,22,27,28,24,15,24,23]\n",
        "L2=[28,20,23,29,24,21,23,24,25,24]\n",
        "print(\"max in L1=\",max(L1))\n",
        "print(\"max in L2=\",max(L2))"
      ],
      "metadata": {
        "colab": {
          "base_uri": "https://localhost:8080/"
        },
        "id": "67W2_6gx5yG3",
        "outputId": "7d3bd555-4e9a-459c-b4ad-7011f36fabb9"
      },
      "execution_count": null,
      "outputs": [
        {
          "output_type": "stream",
          "name": "stdout",
          "text": [
            "max in L1= 28\n",
            "max in L2= 29\n"
          ]
        }
      ]
    },
    {
      "cell_type": "markdown",
      "source": [
        "# **Q6 ques related to random num**\n",
        "\n",
        "**WAP to create a list of 100 random numbers between 100 and 900**"
      ],
      "metadata": {
        "id": "JqHuE66d6o8E"
      }
    },
    {
      "cell_type": "code",
      "source": [],
      "metadata": {
        "id": "FWd6f4yyuKIi"
      },
      "execution_count": null,
      "outputs": []
    },
    {
      "cell_type": "markdown",
      "source": [
        "# **6.1 print all odd and even num**"
      ],
      "metadata": {
        "id": "Qml21EOS6xqY"
      }
    },
    {
      "cell_type": "code",
      "source": [
        "import random as r\n",
        "\n",
        "x=r.sample(range(100,900),100)\n",
        "print(\"random list=\",x)\n",
        "\n",
        "for i in x:\n",
        "  if i%2!=0:\n",
        "    print(\"odd num are=\",i,end=' ')\n",
        "\n",
        "for i in x:\n",
        "  if i%2==0:\n",
        "    print(\"even num are=\",i)"
      ],
      "metadata": {
        "id": "95wRhfXc7E3W",
        "colab": {
          "base_uri": "https://localhost:8080/"
        },
        "outputId": "f4fee4c2-ba9e-40f4-cad0-a55c4e5ef671"
      },
      "execution_count": 55,
      "outputs": [
        {
          "output_type": "stream",
          "name": "stdout",
          "text": [
            "random list= [792, 585, 220, 527, 519, 185, 174, 487, 568, 365, 544, 620, 326, 172, 683, 283, 184, 218, 368, 797, 383, 871, 162, 889, 654, 841, 638, 513, 275, 175, 421, 534, 777, 890, 398, 616, 834, 617, 575, 229, 429, 626, 659, 844, 340, 621, 745, 238, 591, 168, 756, 860, 407, 203, 213, 703, 742, 170, 589, 843, 389, 153, 819, 838, 873, 461, 182, 562, 584, 443, 254, 381, 239, 479, 130, 197, 824, 324, 878, 899, 183, 880, 698, 528, 494, 862, 850, 504, 411, 778, 379, 147, 321, 668, 234, 111, 767, 702, 228, 143]\n",
            "odd num are= 585 odd num are= 527 odd num are= 519 odd num are= 185 odd num are= 487 odd num are= 365 odd num are= 683 odd num are= 283 odd num are= 797 odd num are= 383 odd num are= 871 odd num are= 889 odd num are= 841 odd num are= 513 odd num are= 275 odd num are= 175 odd num are= 421 odd num are= 777 odd num are= 617 odd num are= 575 odd num are= 229 odd num are= 429 odd num are= 659 odd num are= 621 odd num are= 745 odd num are= 591 odd num are= 407 odd num are= 203 odd num are= 213 odd num are= 703 odd num are= 589 odd num are= 843 odd num are= 389 odd num are= 153 odd num are= 819 odd num are= 873 odd num are= 461 odd num are= 443 odd num are= 381 odd num are= 239 odd num are= 479 odd num are= 197 odd num are= 899 odd num are= 183 odd num are= 411 odd num are= 379 odd num are= 147 odd num are= 321 odd num are= 111 odd num are= 767 odd num are= 143 even num are= 792\n",
            "even num are= 220\n",
            "even num are= 174\n",
            "even num are= 568\n",
            "even num are= 544\n",
            "even num are= 620\n",
            "even num are= 326\n",
            "even num are= 172\n",
            "even num are= 184\n",
            "even num are= 218\n",
            "even num are= 368\n",
            "even num are= 162\n",
            "even num are= 654\n",
            "even num are= 638\n",
            "even num are= 534\n",
            "even num are= 890\n",
            "even num are= 398\n",
            "even num are= 616\n",
            "even num are= 834\n",
            "even num are= 626\n",
            "even num are= 844\n",
            "even num are= 340\n",
            "even num are= 238\n",
            "even num are= 168\n",
            "even num are= 756\n",
            "even num are= 860\n",
            "even num are= 742\n",
            "even num are= 170\n",
            "even num are= 838\n",
            "even num are= 182\n",
            "even num are= 562\n",
            "even num are= 584\n",
            "even num are= 254\n",
            "even num are= 130\n",
            "even num are= 824\n",
            "even num are= 324\n",
            "even num are= 878\n",
            "even num are= 880\n",
            "even num are= 698\n",
            "even num are= 528\n",
            "even num are= 494\n",
            "even num are= 862\n",
            "even num are= 850\n",
            "even num are= 504\n",
            "even num are= 778\n",
            "even num are= 668\n",
            "even num are= 234\n",
            "even num are= 702\n",
            "even num are= 228\n"
          ]
        }
      ]
    },
    {
      "cell_type": "markdown",
      "source": [
        "# **6.2 print all prime num**"
      ],
      "metadata": {
        "id": "XebItkO3BDlq"
      }
    },
    {
      "cell_type": "code",
      "source": [
        "import random as r\n",
        "\n",
        "x=r.sample(range(100,900),100)\n",
        "print(\"random list=\",x)\n",
        "\n",
        "\n",
        "def Prime(n):\n",
        "  if n<2:\n",
        "    return 0\n",
        "  for i in range (2, n//2+1):\n",
        "    if n%i==0:\n",
        "      return 0\n",
        "  return 1\n",
        "\n",
        "for i in x:\n",
        "  if Prime(i)==1:\n",
        "    print(i)"
      ],
      "metadata": {
        "id": "GVeBbL5gBLIq",
        "colab": {
          "base_uri": "https://localhost:8080/"
        },
        "outputId": "06e22207-fe8b-41cb-c59f-97952f112bf6"
      },
      "execution_count": 64,
      "outputs": [
        {
          "output_type": "stream",
          "name": "stdout",
          "text": [
            "random list= [316, 592, 279, 108, 166, 865, 734, 365, 391, 303, 496, 777, 272, 603, 873, 864, 239, 261, 779, 204, 850, 856, 186, 514, 457, 832, 536, 398, 817, 420, 184, 432, 197, 584, 171, 868, 142, 430, 260, 382, 196, 205, 874, 520, 889, 325, 168, 498, 686, 784, 460, 484, 649, 763, 374, 318, 146, 336, 786, 552, 135, 446, 553, 491, 898, 628, 170, 193, 897, 660, 255, 882, 696, 408, 351, 401, 510, 158, 298, 709, 153, 555, 257, 409, 490, 587, 871, 504, 207, 499, 435, 807, 622, 341, 573, 470, 238, 736, 231, 185]\n",
            "239\n",
            "457\n",
            "197\n",
            "491\n",
            "193\n",
            "401\n",
            "709\n",
            "257\n",
            "409\n",
            "587\n",
            "499\n"
          ]
        }
      ]
    },
    {
      "cell_type": "markdown",
      "source": [
        "# **Q7**\n",
        "\n",
        "**D is dictionary defined as D={1:\"ONE\", 2:\"TWO\", 3:\"THREE\", 4:\"FOUR\", 5:\"FIVE\"**\n",
        "**WAP to read all the keys and values from dictionary and write to the file in the given below format.\n",
        "key1,value1\n",
        "key2,value2\n",
        "key3,value3**"
      ],
      "metadata": {
        "id": "Dymztrn7EFwy"
      }
    },
    {
      "cell_type": "code",
      "source": [
        "D = {1:'ONE',2:'TWO',3:'THREE',4:'FOUR',5:'FIVE'}\n",
        "\n",
        "with open('myfile.txt','w') as f:\n",
        "  for key, value in D.items():\n",
        "    f.write(f'{key},{value}\\n')\n"
      ],
      "metadata": {
        "id": "fXaU7d9YFCBP"
      },
      "execution_count": null,
      "outputs": []
    },
    {
      "cell_type": "markdown",
      "source": [
        "# **Q8**\n",
        "\n",
        "*L is list defined as L={\"one\",\"two\",\"three\",\"four\",\"five\"}\n",
        "WAP to count the lenght of each element from a list and write to the file in the given below format:\n",
        "one,3\n",
        "two,3\n",
        "three,4*"
      ],
      "metadata": {
        "id": "ZSf6b2wxIrIs"
      }
    },
    {
      "cell_type": "code",
      "source": [
        "L=[\"one\",\"two\",\"three\",\"four\",\"five\"]\n",
        "\n",
        "with open('myfile.txt','w') as f:\n",
        "  for i in L:\n",
        "    lenght=len(i)\n",
        "    f.write(f'{i}:{lenght}\\n')\n"
      ],
      "metadata": {
        "id": "64b6gnq7J_Xj"
      },
      "execution_count": 50,
      "outputs": []
    },
    {
      "cell_type": "markdown",
      "source": [
        "# **Q9 Write a file 100 random strings whose lenght between 10 and 15**"
      ],
      "metadata": {
        "id": "BHW6rzNxLjgA"
      }
    },
    {
      "cell_type": "code",
      "source": [
        "import random as r\n",
        "import string as s\n",
        "\n",
        "with open('myfile.txt','w') as f:\n",
        "  for i in range(100):\n",
        "    random_string=\"\".join(r.choices(s.ascii_letters+s.digits,k=r.randint(10,15)))\n",
        "    f.write(random_string+'\\n')"
      ],
      "metadata": {
        "id": "SyRVjdXVLyGu"
      },
      "execution_count": null,
      "outputs": []
    },
    {
      "cell_type": "markdown",
      "source": [
        "# **Q10 Write to file all prime numbers between 600 and 800**"
      ],
      "metadata": {
        "id": "o2VlhMrKvECM"
      }
    },
    {
      "cell_type": "code",
      "source": [
        "def Prime(n):\n",
        "  if n<2:\n",
        "    return 1\n",
        "  for i in range(2, n//2+1):\n",
        "    if n % i == 0:\n",
        "      return 0\n",
        "  return 1\n",
        "\n",
        "with open('myfile.txt','w') as f:\n",
        "  for i in range(600,800):\n",
        "    if Prime(i)==1:\n",
        "      f.write(str(i)+'\\n')"
      ],
      "metadata": {
        "id": "tvzyw7oQviJ2"
      },
      "execution_count": 48,
      "outputs": []
    },
    {
      "cell_type": "markdown",
      "source": [
        "# **Q11 WAP to calculate time taken by a program**"
      ],
      "metadata": {
        "id": "JyqUxSl8woS_"
      }
    },
    {
      "cell_type": "code",
      "source": [
        "import time\n",
        "start_time=time.time()\n",
        "a=16\n",
        "b=189\n",
        "c=a+b\n",
        "print(a,\"+\",b,\"=\",c)\n",
        "end_time=time.time()\n",
        "print(\"time taken=\",end_time-start_time,\"seconds\")"
      ],
      "metadata": {
        "colab": {
          "base_uri": "https://localhost:8080/"
        },
        "id": "X5dsrEnfw8RW",
        "outputId": "8b8b7492-bdb8-4726-fc2a-59e403802d68"
      },
      "execution_count": 26,
      "outputs": [
        {
          "output_type": "stream",
          "name": "stdout",
          "text": [
            "16 + 189 = 205\n",
            "time taken= 0.0029506683349609375 seconds\n"
          ]
        }
      ]
    },
    {
      "cell_type": "markdown",
      "source": [
        "# **Q13 WAP to create a dic of student marks in five sub and you have to find student having max min avg marks**"
      ],
      "metadata": {
        "id": "v2CZJxZAxyyJ"
      }
    },
    {
      "cell_type": "code",
      "source": [
        "student={'name':'riya', 'marks':[14,28,16,29,10]}\n",
        "\n",
        "max_marks=max(student['marks'])\n",
        "print(\"max marks of student=\",max_marks)\n",
        "\n",
        "min_marks=min(student['marks'])\n",
        "print(\"min marks of student=\",min_marks)\n",
        "\n",
        "avg_marks=sum(student['marks'])/len(student['marks'])\n",
        "print(\"average marks of student are=\",avg_marks)"
      ],
      "metadata": {
        "colab": {
          "base_uri": "https://localhost:8080/"
        },
        "id": "Cz7LPOHAyG-j",
        "outputId": "8aeace98-9964-40d3-c98c-57fabdee9225"
      },
      "execution_count": null,
      "outputs": [
        {
          "output_type": "stream",
          "name": "stdout",
          "text": [
            "max marks of student= 29\n",
            "min marks of student= 10\n",
            "average marks of student are= 19.4\n"
          ]
        }
      ]
    }
  ]
}